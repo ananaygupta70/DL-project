{
 "cells": [
  {
   "cell_type": "code",
   "execution_count": 1,
   "metadata": {},
   "outputs": [
    {
     "name": "stderr",
     "output_type": "stream",
     "text": [
      "Using TensorFlow backend.\n"
     ]
    }
   ],
   "source": [
    "# import all the required libraries\n",
    "import numpy as np\n",
    "import pandas as pd\n",
    "import matplotlib.pyplot as plt\n",
    "import random\n",
    "import tensorflow\n",
    "import keras\n",
    "from keras.models import Sequential\n",
    "from keras.layers import Dense"
   ]
  },
  {
   "cell_type": "code",
   "execution_count": 11,
   "metadata": {},
   "outputs": [],
   "source": [
    "# Read the train data\n",
    "df=pd.read_csv('C:\\\\Users\\\\NITJ\\Downloads\\\\mnist_train.csv\\\\mnist_train.csv', delimiter=',', dtype=int)\n",
    "X = df.iloc[:, 1:].values\n",
    "y = df.iloc[:, 0].values\n",
    "# Normalize\n",
    "X=X/255\n",
    "X_train=X\n",
    "y_train=y\n",
    "\n",
    "# Read the test data\n",
    "df=pd.read_csv('C:\\\\Users\\\\NITJ\\Downloads\\\\mnist_test.csv\\\\mnist_test.csv', delimiter=',', dtype=int)\n",
    "X_test = df.iloc[:, 1:].values\n",
    "y_test = df.iloc[:, 0].values\n",
    "X_test=X_test/255\n",
    "\n",
    "from keras.utils import np_utils\n",
    "dummy_y=np_utils.to_categorical(y_train)\n",
    "dummy_y_test=np_utils.to_categorical(y_test)"
   ]
  },
  {
   "cell_type": "markdown",
   "metadata": {},
   "source": [
    "### Different Neural network models"
   ]
  },
  {
   "cell_type": "code",
   "execution_count": 13,
   "metadata": {},
   "outputs": [],
   "source": [
    "# Function for building a Neural network with 1 hidden layer\n",
    "def nn1(n1,s1,s2):\n",
    "    model = Sequential()\n",
    "    # Create the input layer and 1st hidden layer with n1 nodes\n",
    "    model.add(Dense(n1,kernel_initializer ='uniform', activation = s1, input_dim = 784))\n",
    "    # Create an output layer, 10 nodes\n",
    "    model.add(Dense(10, activation=s2))\n",
    "    # Compile model\n",
    "    model.compile(optimizer = 'adam' , loss = 'categorical_crossentropy', metrics = ['accuracy'])\n",
    "\n",
    "\n",
    "    model.fit(X_train,dummy_y,batch_size = 100 ,nb_epoch=10)\n",
    "    train_accuracy = model.evaluate(X_train, dummy_y)\n",
    "    test_accuracy = model.evaluate(X_test, dummy_y_test)\n",
    "    return train_accuracy[1],test_accuracy[1]\n",
    "\n",
    "# Function for building a Neural network with 2 hidden layers\n",
    "def nn2(n1,n2,s1,s2,s3):\n",
    "    model = Sequential()\n",
    "    # Create the input layer and 1st hidden layer with n1 nodes\n",
    "    model.add(Dense(n1,kernel_initializer ='uniform', activation = s1, input_dim = 784))\n",
    "    # Create another hidden layer with n2 nodes\n",
    "    model.add(Dense(n2, activation=s2))\n",
    "    # Create an output layer, 10 nodes\n",
    "    model.add(Dense(10, activation=s3))\n",
    "    # Compile model\n",
    "    model.compile(optimizer = 'adam' , loss = 'categorical_crossentropy', metrics = ['accuracy'])\n",
    "\n",
    "\n",
    "    model.fit(X_train,dummy_y,batch_size = 100 ,nb_epoch=10)\n",
    "    train_accuracy = model.evaluate(X_train, dummy_y)\n",
    "    test_accuracy = model.evaluate(X_test, dummy_y_test)\n",
    "    return train_accuracy[1],test_accuracy[1]\n",
    "\n",
    "# Function for building a Neural network with 3 hidden layers\n",
    "def nn3(n1,n2,n3,s1,s2,s3,s4):\n",
    "    model = Sequential()\n",
    "    # Create the input layer and 1st hidden layer with n1 nodes\n",
    "    model.add(Dense(n1,kernel_initializer ='uniform', activation = s1, input_dim = 784))\n",
    "    # Create another hidden layer with n2 nodes\n",
    "    model.add(Dense(n2, activation=s2))\n",
    "    # Create another hidden layer with n3 nodes\n",
    "    model.add(Dense(n3, activation=s3))\n",
    "    # Create an output layer, 10 nodes\n",
    "    model.add(Dense(10, activation=s4))\n",
    "    # Compile model\n",
    "    model.compile(optimizer = 'adam' , loss = 'categorical_crossentropy', metrics = ['accuracy'])\n",
    "\n",
    "\n",
    "    model.fit(X_train,dummy_y,batch_size = 100 ,nb_epoch=10)\n",
    "    train_accuracy = model.evaluate(X_train, dummy_y)\n",
    "    test_accuracy = model.evaluate(X_test, dummy_y_test)\n",
    "    return train_accuracy[1],test_accuracy[1]"
   ]
  },
  {
   "cell_type": "code",
   "execution_count": 47,
   "metadata": {},
   "outputs": [
    {
     "name": "stderr",
     "output_type": "stream",
     "text": [
      "C:\\Users\\NITJ\\Anaconda3\\lib\\site-packages\\ipykernel_launcher.py:12: UserWarning: The `nb_epoch` argument in `fit` has been renamed `epochs`.\n",
      "  if sys.path[0] == '':\n"
     ]
    },
    {
     "name": "stdout",
     "output_type": "stream",
     "text": [
      "Epoch 1/10\n",
      "60000/60000 [==============================] - 7s 123us/step - loss: 0.4253 - accuracy: 0.8852\n",
      "Epoch 2/10\n",
      "60000/60000 [==============================] - 7s 121us/step - loss: 0.2414 - accuracy: 0.9310\n",
      "Epoch 3/10\n",
      "60000/60000 [==============================] - 7s 125us/step - loss: 0.1864 - accuracy: 0.9467\n",
      "Epoch 4/10\n",
      "60000/60000 [==============================] - 7s 116us/step - loss: 0.1481 - accuracy: 0.9576\n",
      "Epoch 5/10\n",
      "60000/60000 [==============================] - 7s 111us/step - loss: 0.1223 - accuracy: 0.9643\n",
      "Epoch 6/10\n",
      "60000/60000 [==============================] - 7s 124us/step - loss: 0.1044 - accuracy: 0.9696\n",
      "Epoch 7/10\n",
      "60000/60000 [==============================] - 7s 116us/step - loss: 0.0904 - accuracy: 0.9735\n",
      "Epoch 8/10\n",
      "60000/60000 [==============================] - 7s 122us/step - loss: 0.0795 - accuracy: 0.9764\n",
      "Epoch 9/10\n",
      "60000/60000 [==============================] - 7s 125us/step - loss: 0.0698 - accuracy: 0.9793\n",
      "Epoch 10/10\n",
      "60000/60000 [==============================] - 7s 110us/step - loss: 0.0622 - accuracy: 0.9814\n",
      "60000/60000 [==============================] - 7s 110us/step\n",
      "10000/10000 [==============================] - 1s 101us/step\n",
      "Training Accuracy :  0.9843500256538391\n",
      "Testing Accuracy :  0.9725000262260437\n"
     ]
    }
   ],
   "source": [
    "# Architecture of model 1:\n",
    "# Input layer with 784 nodes\n",
    "# only one hidden layer with 100 nodes and activation function = softplus\n",
    "# Output layer with 10 nodes and activation function = softplus\n",
    "\n",
    "\n",
    "train_accuracy,test_accuracy = nn1(100,\"softplus\",\"softplus\")\n",
    "print(\"Training Accuracy : \",train_accuracy)\n",
    "print(\"Testing Accuracy : \",test_accuracy)\n",
    "m1_acc=test_accuracy"
   ]
  },
  {
   "cell_type": "code",
   "execution_count": 48,
   "metadata": {},
   "outputs": [
    {
     "name": "stderr",
     "output_type": "stream",
     "text": [
      "C:\\Users\\NITJ\\Anaconda3\\lib\\site-packages\\ipykernel_launcher.py:30: UserWarning: The `nb_epoch` argument in `fit` has been renamed `epochs`.\n"
     ]
    },
    {
     "name": "stdout",
     "output_type": "stream",
     "text": [
      "Epoch 1/10\n",
      "60000/60000 [==============================] - 9s 150us/step - loss: 0.4306 - accuracy: 0.87510s - loss: 0.4388 \n",
      "Epoch 2/10\n",
      "60000/60000 [==============================] - 8s 141us/step - loss: 0.2051 - accuracy: 0.9403\n",
      "Epoch 3/10\n",
      "60000/60000 [==============================] - 8s 134us/step - loss: 0.1507 - accuracy: 0.9550\n",
      "Epoch 4/10\n",
      "60000/60000 [==============================] - 8s 137us/step - loss: 0.1190 - accuracy: 0.9647\n",
      "Epoch 5/10\n",
      "60000/60000 [==============================] - 8s 138us/step - loss: 0.0973 - accuracy: 0.9707\n",
      "Epoch 6/10\n",
      "60000/60000 [==============================] - 8s 131us/step - loss: 0.0823 - accuracy: 0.9751\n",
      "Epoch 7/10\n",
      "60000/60000 [==============================] - 7s 118us/step - loss: 0.0697 - accuracy: 0.9790\n",
      "Epoch 8/10\n",
      "60000/60000 [==============================] - 7s 119us/step - loss: 0.0594 - accuracy: 0.9822\n",
      "Epoch 9/10\n",
      "60000/60000 [==============================] - 8s 127us/step - loss: 0.0511 - accuracy: 0.9840\n",
      "Epoch 10/10\n",
      "60000/60000 [==============================] - 7s 122us/step - loss: 0.0433 - accuracy: 0.9868\n",
      "60000/60000 [==============================] - 7s 110us/step\n",
      "10000/10000 [==============================] - 1s 114us/step\n",
      "Training Accuracy :  0.9904333353042603\n",
      "Testing Accuracy :  0.9771000146865845\n"
     ]
    }
   ],
   "source": [
    "# Architecture of model 2:\n",
    "# Input layer with 784 nodes\n",
    "# 1st hidden layer with 100 nodes and activation function = softplus\n",
    "# 2nd hidden layer with 100 nodes and activation function = softplus\n",
    "# Output layer with 10 nodes and activation function = softplus\n",
    "\n",
    "\n",
    "\n",
    "train_accuracy,test_accuracy = nn2(100,100,\"softplus\",\"softplus\",\"softplus\")\n",
    "print(\"Training Accuracy : \",train_accuracy)\n",
    "print(\"Testing Accuracy : \",test_accuracy)\n",
    "m2_acc=test_accuracy"
   ]
  },
  {
   "cell_type": "code",
   "execution_count": 46,
   "metadata": {
    "scrolled": true
   },
   "outputs": [
    {
     "name": "stderr",
     "output_type": "stream",
     "text": [
      "C:\\Users\\NITJ\\Anaconda3\\lib\\site-packages\\ipykernel_launcher.py:50: UserWarning: The `nb_epoch` argument in `fit` has been renamed `epochs`.\n"
     ]
    },
    {
     "name": "stdout",
     "output_type": "stream",
     "text": [
      "Epoch 1/10\n",
      "60000/60000 [==============================] - 9s 157us/step - loss: 0.4385 - accuracy: 0.87050s - loss: 0.4406 - accuracy: \n",
      "Epoch 2/10\n",
      "60000/60000 [==============================] - 8s 142us/step - loss: 0.1957 - accuracy: 0.9420\n",
      "Epoch 3/10\n",
      "60000/60000 [==============================] - 8s 140us/step - loss: 0.1448 - accuracy: 0.9566\n",
      "Epoch 4/10\n",
      "60000/60000 [==============================] - 9s 151us/step - loss: 0.1138 - accuracy: 0.9650\n",
      "Epoch 5/10\n",
      "60000/60000 [==============================] - 8s 137us/step - loss: 0.0945 - accuracy: 0.9705\n",
      "Epoch 6/10\n",
      "60000/60000 [==============================] - 8s 138us/step - loss: 0.0781 - accuracy: 0.9754\n",
      "Epoch 7/10\n",
      "60000/60000 [==============================] - 9s 143us/step - loss: 0.0662 - accuracy: 0.9790\n",
      "Epoch 8/10\n",
      "60000/60000 [==============================] - 8s 141us/step - loss: 0.0575 - accuracy: 0.98120s - loss: 0.0574 - ac\n",
      "Epoch 9/10\n",
      "60000/60000 [==============================] - 9s 149us/step - loss: 0.0489 - accuracy: 0.9839\n",
      "Epoch 10/10\n",
      "60000/60000 [==============================] - 9s 142us/step - loss: 0.0400 - accuracy: 0.9873\n",
      "60000/60000 [==============================] - 8s 127us/step\n",
      "10000/10000 [==============================] - 1s 115us/step\n",
      "Training Accuracy :  0.9912166595458984\n",
      "Testing Accuracy :  0.9778000116348267\n"
     ]
    }
   ],
   "source": [
    "# Architecture of model 3:\n",
    "# Input layer with 784 nodes\n",
    "# 1st hidden layer with 100 nodes and activation function = softplus\n",
    "# 2nd hidden layer with 100 nodes and activation function = softplus\n",
    "# 3rd hidden layer with 100 nodes and activation function = softplus\n",
    "# Output layer with 10 nodes and activation function = softplus\n",
    "\n",
    "\n",
    "\n",
    "train_accuracy,test_accuracy = nn3(100,100,100,\"softplus\",\"softplus\",\"softplus\",\"softplus\")\n",
    "print(\"Training Accuracy : \",train_accuracy)\n",
    "print(\"Testing Accuracy : \",test_accuracy)\n",
    "m3_acc=test_accuracy"
   ]
  },
  {
   "cell_type": "code",
   "execution_count": 17,
   "metadata": {},
   "outputs": [
    {
     "name": "stderr",
     "output_type": "stream",
     "text": [
      "C:\\Users\\NITJ\\Anaconda3\\lib\\site-packages\\ipykernel_launcher.py:30: UserWarning: The `nb_epoch` argument in `fit` has been renamed `epochs`.\n"
     ]
    },
    {
     "name": "stdout",
     "output_type": "stream",
     "text": [
      "Epoch 1/10\n",
      "60000/60000 [==============================] - 8s 133us/step - loss: nan - accuracy: 0.3211\n",
      "Epoch 2/10\n",
      "60000/60000 [==============================] - 8s 131us/step - loss: nan - accuracy: 0.0987\n",
      "Epoch 3/10\n",
      "60000/60000 [==============================] - 7s 119us/step - loss: nan - accuracy: 0.0987\n",
      "Epoch 4/10\n",
      "60000/60000 [==============================] - 7s 123us/step - loss: nan - accuracy: 0.0987\n",
      "Epoch 5/10\n",
      "60000/60000 [==============================] - 7s 121us/step - loss: nan - accuracy: 0.0987\n",
      "Epoch 6/10\n",
      "60000/60000 [==============================] - 7s 120us/step - loss: nan - accuracy: 0.0987\n",
      "Epoch 7/10\n",
      "60000/60000 [==============================] - 7s 121us/step - loss: nan - accuracy: 0.0987\n",
      "Epoch 8/10\n",
      "60000/60000 [==============================] - 7s 124us/step - loss: nan - accuracy: 0.0987\n",
      "Epoch 9/10\n",
      "60000/60000 [==============================] - 7s 124us/step - loss: nan - accuracy: 0.0987\n",
      "Epoch 10/10\n",
      "60000/60000 [==============================] - 7s 122us/step - loss: nan - accuracy: 0.0987\n",
      "60000/60000 [==============================] - 4s 69us/step\n",
      "10000/10000 [==============================] - 1s 64us/step\n",
      "Training Accuracy :  0.09871666878461838\n",
      "Testing Accuracy :  0.09799999743700027\n"
     ]
    }
   ],
   "source": [
    "# Architecture of model 4:\n",
    "# Input layer with 784 nodes\n",
    "# 1st hidden layer with 400 nodes and activation function = relu\n",
    "# 2nd hidden layer with 100 nodes and activation function = relu\n",
    "# Output layer with 10 nodes and activation function = relu\n",
    "\n",
    "\n",
    "\n",
    "train_accuracy,test_accuracy = nn2(400,100,\"relu\",\"relu\",\"relu\")\n",
    "print(\"Training Accuracy : \",train_accuracy)\n",
    "print(\"Testing Accuracy : \",test_accuracy)\n",
    "m4_acc=test_accuracy"
   ]
  },
  {
   "cell_type": "code",
   "execution_count": 18,
   "metadata": {},
   "outputs": [
    {
     "name": "stderr",
     "output_type": "stream",
     "text": [
      "C:\\Users\\NITJ\\Anaconda3\\lib\\site-packages\\ipykernel_launcher.py:30: UserWarning: The `nb_epoch` argument in `fit` has been renamed `epochs`.\n"
     ]
    },
    {
     "name": "stdout",
     "output_type": "stream",
     "text": [
      "Epoch 1/10\n",
      "60000/60000 [==============================] - 7s 121us/step - loss: 0.5609 - accuracy: 0.8655\n",
      "Epoch 2/10\n",
      "60000/60000 [==============================] - 7s 116us/step - loss: 0.2053 - accuracy: 0.9410\n",
      "Epoch 3/10\n",
      "60000/60000 [==============================] - 7s 114us/step - loss: 0.1485 - accuracy: 0.9567\n",
      "Epoch 4/10\n",
      "60000/60000 [==============================] - 8s 126us/step - loss: 0.1123 - accuracy: 0.9668\n",
      "Epoch 5/10\n",
      "60000/60000 [==============================] - 8s 128us/step - loss: 0.0878 - accuracy: 0.9746\n",
      "Epoch 6/10\n",
      "60000/60000 [==============================] - 8s 130us/step - loss: 0.0694 - accuracy: 0.9797\n",
      "Epoch 7/10\n",
      "60000/60000 [==============================] - 8s 138us/step - loss: 0.0554 - accuracy: 0.9838\n",
      "Epoch 8/10\n",
      "60000/60000 [==============================] - 8s 134us/step - loss: 0.0451 - accuracy: 0.9871\n",
      "Epoch 9/10\n",
      "60000/60000 [==============================] - 7s 120us/step - loss: 0.0356 - accuracy: 0.9899\n",
      "Epoch 10/10\n",
      "60000/60000 [==============================] - 7s 125us/step - loss: 0.0290 - accuracy: 0.9922\n",
      "60000/60000 [==============================] - 4s 65us/step\n",
      "10000/10000 [==============================] - 1s 62us/step\n",
      "Training Accuracy :  0.9952666759490967\n",
      "Testing Accuracy :  0.980400025844574\n"
     ]
    }
   ],
   "source": [
    "# Architecture of model 5:\n",
    "# Input layer with 784 nodes\n",
    "# 1st hidden layer with 400 nodes and activation function = sigmoid\n",
    "# 2nd hidden layer with 100 nodes and activation function = sigmoid\n",
    "# Output layer with 10 nodes and activation function = sigmoid\n",
    "\n",
    "\n",
    "\n",
    "train_accuracy,test_accuracy = nn2(400,100,\"sigmoid\",\"sigmoid\",\"sigmoid\")\n",
    "print(\"Training Accuracy : \",train_accuracy)\n",
    "print(\"Testing Accuracy : \",test_accuracy)\n",
    "m5_acc=test_accuracy"
   ]
  },
  {
   "cell_type": "code",
   "execution_count": 19,
   "metadata": {},
   "outputs": [
    {
     "name": "stderr",
     "output_type": "stream",
     "text": [
      "C:\\Users\\NITJ\\Anaconda3\\lib\\site-packages\\ipykernel_launcher.py:30: UserWarning: The `nb_epoch` argument in `fit` has been renamed `epochs`.\n"
     ]
    },
    {
     "name": "stdout",
     "output_type": "stream",
     "text": [
      "Epoch 1/10\n",
      "60000/60000 [==============================] - 8s 141us/step - loss: 0.3779 - accuracy: 0.8884\n",
      "Epoch 2/10\n",
      "60000/60000 [==============================] - 8s 132us/step - loss: 0.1694 - accuracy: 0.9490\n",
      "Epoch 3/10\n",
      "60000/60000 [==============================] - 9s 145us/step - loss: 0.1142 - accuracy: 0.9655\n",
      "Epoch 4/10\n",
      "60000/60000 [==============================] - 8s 139us/step - loss: 0.0847 - accuracy: 0.9737\n",
      "Epoch 5/10\n",
      "60000/60000 [==============================] - 9s 142us/step - loss: 0.0672 - accuracy: 0.97910s - loss: 0.0671 - accuracy: 0.97\n",
      "Epoch 6/10\n",
      "60000/60000 [==============================] - 9s 146us/step - loss: 0.0527 - accuracy: 0.9833\n",
      "Epoch 7/10\n",
      "60000/60000 [==============================] - 8s 135us/step - loss: 0.0429 - accuracy: 0.9859\n",
      "Epoch 8/10\n",
      "60000/60000 [==============================] - 8s 139us/step - loss: 0.0344 - accuracy: 0.9890\n",
      "Epoch 9/10\n",
      "60000/60000 [==============================] - 9s 153us/step - loss: 0.0295 - accuracy: 0.9902\n",
      "Epoch 10/10\n",
      "60000/60000 [==============================] - 8s 139us/step - loss: 0.0226 - accuracy: 0.9926\n",
      "60000/60000 [==============================] - 5s 75us/step\n",
      "10000/10000 [==============================] - 1s 78us/step\n",
      "Training Accuracy :  0.993149995803833\n",
      "Testing Accuracy :  0.9768999814987183\n"
     ]
    }
   ],
   "source": [
    "# Architecture of model 6:\n",
    "# Input layer with 784 nodes\n",
    "# 1st hidden layer with 400 nodes and activation function = softplus\n",
    "# 2nd hidden layer with 100 nodes and activation function = softplus\n",
    "# Output layer with 10 nodes and activation function = softplus\n",
    "\n",
    "\n",
    "\n",
    "train_accuracy,test_accuracy = nn2(400,100,\"softplus\",\"softplus\",\"softplus\")\n",
    "print(\"Training Accuracy : \",train_accuracy)\n",
    "print(\"Testing Accuracy : \",test_accuracy)\n",
    "m6_acc=test_accuracy"
   ]
  },
  {
   "cell_type": "code",
   "execution_count": 20,
   "metadata": {},
   "outputs": [
    {
     "name": "stderr",
     "output_type": "stream",
     "text": [
      "C:\\Users\\NITJ\\Anaconda3\\lib\\site-packages\\ipykernel_launcher.py:30: UserWarning: The `nb_epoch` argument in `fit` has been renamed `epochs`.\n"
     ]
    },
    {
     "name": "stdout",
     "output_type": "stream",
     "text": [
      "Epoch 1/10\n",
      "60000/60000 [==============================] - 5s 77us/step - loss: 2.1046 - accuracy: 0.2034\n",
      "Epoch 2/10\n",
      "60000/60000 [==============================] - 4s 65us/step - loss: 1.9339 - accuracy: 0.2112\n",
      "Epoch 3/10\n",
      "60000/60000 [==============================] - 4s 70us/step - loss: 1.8746 - accuracy: 0.2141\n",
      "Epoch 4/10\n",
      "60000/60000 [==============================] - 4s 63us/step - loss: 1.8472 - accuracy: 0.2183\n",
      "Epoch 5/10\n",
      "60000/60000 [==============================] - 3s 56us/step - loss: 1.8312 - accuracy: 0.2224\n",
      "Epoch 6/10\n",
      "60000/60000 [==============================] - 4s 59us/step - loss: 1.8189 - accuracy: 0.2270\n",
      "Epoch 7/10\n",
      "60000/60000 [==============================] - 4s 60us/step - loss: 1.8101 - accuracy: 0.2329\n",
      "Epoch 8/10\n",
      "60000/60000 [==============================] - 3s 54us/step - loss: 1.8006 - accuracy: 0.2427\n",
      "Epoch 9/10\n",
      "60000/60000 [==============================] - 3s 56us/step - loss: 1.7915 - accuracy: 0.2522\n",
      "Epoch 10/10\n",
      "60000/60000 [==============================] - 3s 57us/step - loss: 1.7810 - accuracy: 0.2520\n",
      "60000/60000 [==============================] - 2s 30us/step\n",
      "10000/10000 [==============================] - 0s 34us/step\n",
      "Training Accuracy :  0.2675666809082031\n",
      "Testing Accuracy :  0.2662000060081482\n"
     ]
    }
   ],
   "source": [
    "# Architecture of model 7:\n",
    "# Input layer with 784 nodes\n",
    "# 1st hidden layer with 1 nodes and activation function = tanh\n",
    "# 2nd hidden layer with 1 nodes and activation function = relu\n",
    "# Output layer with 10 nodes and activation function = softplus\n",
    "\n",
    "\n",
    "train_accuracy,test_accuracy = nn2(1,1,\"tanh\",\"relu\",\"softplus\")\n",
    "print(\"Training Accuracy : \",train_accuracy)\n",
    "print(\"Testing Accuracy : \",test_accuracy)\n",
    "m7_acc=test_accuracy"
   ]
  },
  {
   "cell_type": "code",
   "execution_count": 21,
   "metadata": {},
   "outputs": [
    {
     "name": "stderr",
     "output_type": "stream",
     "text": [
      "C:\\Users\\NITJ\\Anaconda3\\lib\\site-packages\\ipykernel_launcher.py:30: UserWarning: The `nb_epoch` argument in `fit` has been renamed `epochs`.\n"
     ]
    },
    {
     "name": "stdout",
     "output_type": "stream",
     "text": [
      "Epoch 1/10\n",
      "60000/60000 [==============================] - 4s 73us/step - loss: 1.0385 - accuracy: 0.7178\n",
      "Epoch 2/10\n",
      "60000/60000 [==============================] - 4s 69us/step - loss: 0.3922 - accuracy: 0.8992\n",
      "Epoch 3/10\n",
      "60000/60000 [==============================] - 4s 67us/step - loss: 0.2998 - accuracy: 0.9165\n",
      "Epoch 4/10\n",
      "60000/60000 [==============================] - 4s 66us/step - loss: 0.2679 - accuracy: 0.9235\n",
      "Epoch 5/10\n",
      "60000/60000 [==============================] - 4s 66us/step - loss: 0.2517 - accuracy: 0.9276\n",
      "Epoch 6/10\n",
      "60000/60000 [==============================] - 4s 70us/step - loss: 0.2405 - accuracy: 0.9297\n",
      "Epoch 7/10\n",
      "60000/60000 [==============================] - 4s 72us/step - loss: 0.2313 - accuracy: 0.9327\n",
      "Epoch 8/10\n",
      "60000/60000 [==============================] - 5s 82us/step - loss: 0.2242 - accuracy: 0.9350\n",
      "Epoch 9/10\n",
      "60000/60000 [==============================] - 5s 80us/step - loss: 0.2187 - accuracy: 0.9357\n",
      "Epoch 10/10\n",
      "60000/60000 [==============================] - 5s 80us/step - loss: 0.2138 - accuracy: 0.9369\n",
      "60000/60000 [==============================] - 4s 73us/step\n",
      "10000/10000 [==============================] - 1s 106us/step\n",
      "Training Accuracy :  0.9402999877929688\n",
      "Testing Accuracy :  0.9337000250816345\n"
     ]
    }
   ],
   "source": [
    "# Architectureof model 8:\n",
    "# Input layer with 784 nodes\n",
    "# 1st hidden layer with 10 nodes and activation function = tanh\n",
    "# 2nd hidden layer with 10 nodes and activation function = relu\n",
    "# Output layer with 10 nodes and activation function = softplus\n",
    "\n",
    "\n",
    "train_accuracy,test_accuracy = nn2(10,10,\"tanh\",\"relu\",\"softplus\")\n",
    "print(\"Training Accuracy : \",train_accuracy)\n",
    "print(\"Testing Accuracy : \",test_accuracy)\n",
    "m8_acc=test_accuracy"
   ]
  },
  {
   "cell_type": "code",
   "execution_count": 22,
   "metadata": {},
   "outputs": [
    {
     "name": "stderr",
     "output_type": "stream",
     "text": [
      "C:\\Users\\NITJ\\Anaconda3\\lib\\site-packages\\ipykernel_launcher.py:30: UserWarning: The `nb_epoch` argument in `fit` has been renamed `epochs`.\n"
     ]
    },
    {
     "name": "stdout",
     "output_type": "stream",
     "text": [
      "Epoch 1/10\n",
      "60000/60000 [==============================] - 7s 118us/step - loss: 0.3452 - accuracy: 0.9073\n",
      "Epoch 2/10\n",
      "60000/60000 [==============================] - 8s 129us/step - loss: 0.1444 - accuracy: 0.9577\n",
      "Epoch 3/10\n",
      "60000/60000 [==============================] - 6s 105us/step - loss: 0.0999 - accuracy: 0.9704\n",
      "Epoch 4/10\n",
      "60000/60000 [==============================] - 6s 97us/step - loss: 0.0757 - accuracy: 0.9772\n",
      "Epoch 5/10\n",
      "60000/60000 [==============================] - 5s 83us/step - loss: 0.0599 - accuracy: 0.9818\n",
      "Epoch 6/10\n",
      "60000/60000 [==============================] - 5s 88us/step - loss: 0.0463 - accuracy: 0.9857\n",
      "Epoch 7/10\n",
      "60000/60000 [==============================] - 5s 79us/step - loss: 0.0376 - accuracy: 0.9886\n",
      "Epoch 8/10\n",
      "60000/60000 [==============================] - 5s 91us/step - loss: 0.0311 - accuracy: 0.9907\n",
      "Epoch 9/10\n",
      "60000/60000 [==============================] - 5s 82us/step - loss: 0.0269 - accuracy: 0.9916\n",
      "Epoch 10/10\n",
      "60000/60000 [==============================] - 5s 84us/step - loss: 0.0195 - accuracy: 0.9942\n",
      "60000/60000 [==============================] - 3s 44us/step\n",
      "10000/10000 [==============================] - 1s 63us/step\n",
      "Training Accuracy :  0.9946833252906799\n",
      "Testing Accuracy :  0.9758999943733215\n"
     ]
    }
   ],
   "source": [
    "# Architecture of model 9:\n",
    "# Input layer with 784 nodes\n",
    "# 1st hidden layer with 100 nodes and activation function = tanh\n",
    "# 2nd hidden layer with 100 nodes and activation function = relu\n",
    "# Output layer with 10 nodes and activation function = softplus\n",
    "\n",
    "\n",
    "train_accuracy,test_accuracy = nn2(100,100,\"tanh\",\"relu\",\"softplus\")\n",
    "print(\"Training Accuracy : \",train_accuracy)\n",
    "print(\"Testing Accuracy : \",test_accuracy)\n",
    "m9_acc=test_accuracy"
   ]
  },
  {
   "cell_type": "code",
   "execution_count": 23,
   "metadata": {},
   "outputs": [
    {
     "name": "stderr",
     "output_type": "stream",
     "text": [
      "C:\\Users\\NITJ\\Anaconda3\\lib\\site-packages\\ipykernel_launcher.py:30: UserWarning: The `nb_epoch` argument in `fit` has been renamed `epochs`.\n"
     ]
    },
    {
     "name": "stdout",
     "output_type": "stream",
     "text": [
      "Epoch 1/10\n",
      "60000/60000 [==============================] - 4s 70us/step - loss: 2.3017 - accuracy: 0.1117\n",
      "Epoch 2/10\n",
      "60000/60000 [==============================] - 3s 51us/step - loss: 2.3013 - accuracy: 0.1124\n",
      "Epoch 3/10\n",
      "60000/60000 [==============================] - 3s 53us/step - loss: 2.3013 - accuracy: 0.1124\n",
      "Epoch 4/10\n",
      "60000/60000 [==============================] - 3s 54us/step - loss: 2.3013 - accuracy: 0.1124\n",
      "Epoch 5/10\n",
      "60000/60000 [==============================] - 3s 53us/step - loss: 2.3013 - accuracy: 0.1124\n",
      "Epoch 6/10\n",
      "60000/60000 [==============================] - 3s 54us/step - loss: 2.3013 - accuracy: 0.1124\n",
      "Epoch 7/10\n",
      "60000/60000 [==============================] - 3s 57us/step - loss: 2.3013 - accuracy: 0.1124\n",
      "Epoch 8/10\n",
      "60000/60000 [==============================] - 4s 62us/step - loss: 2.3013 - accuracy: 0.1124\n",
      "Epoch 9/10\n",
      "60000/60000 [==============================] - 4s 58us/step - loss: 2.3013 - accuracy: 0.1124\n",
      "Epoch 10/10\n",
      "60000/60000 [==============================] - 3s 51us/step - loss: 2.3013 - accuracy: 0.1124\n",
      "60000/60000 [==============================] - 1s 24us/step\n",
      "10000/10000 [==============================] - 0s 21us/step\n",
      "Training Accuracy :  0.11236666887998581\n",
      "Testing Accuracy :  0.11349999904632568\n"
     ]
    }
   ],
   "source": [
    "# Architecture of model 10:\n",
    "# Input layer with 784 nodes\n",
    "# 1st hidden layer with 1 nodes and activation function = sigmoid \n",
    "# 2nd hidden layer with 1 nodes and activation function = relu\n",
    "# Output layer with 10 nodes and activation function = softmax\n",
    "\n",
    "\n",
    "train_accuracy,test_accuracy = nn2(1,1,\"sigmoid\",\"relu\",\"softmax\")\n",
    "print(\"Training Accuracy : \",train_accuracy)\n",
    "print(\"Testing Accuracy : \",test_accuracy)\n",
    "m10_acc=test_accuracy"
   ]
  },
  {
   "cell_type": "code",
   "execution_count": 24,
   "metadata": {},
   "outputs": [
    {
     "name": "stderr",
     "output_type": "stream",
     "text": [
      "C:\\Users\\NITJ\\Anaconda3\\lib\\site-packages\\ipykernel_launcher.py:30: UserWarning: The `nb_epoch` argument in `fit` has been renamed `epochs`.\n"
     ]
    },
    {
     "name": "stdout",
     "output_type": "stream",
     "text": [
      "Epoch 1/10\n",
      "60000/60000 [==============================] - 4s 70us/step - loss: 1.2545 - accuracy: 0.6466\n",
      "Epoch 2/10\n",
      "60000/60000 [==============================] - 3s 57us/step - loss: 0.5018 - accuracy: 0.8688\n",
      "Epoch 3/10\n",
      "60000/60000 [==============================] - 4s 64us/step - loss: 0.3872 - accuracy: 0.8946\n",
      "Epoch 4/10\n",
      "60000/60000 [==============================] - 4s 60us/step - loss: 0.3369 - accuracy: 0.9064\n",
      "Epoch 5/10\n",
      "60000/60000 [==============================] - 4s 59us/step - loss: 0.3053 - accuracy: 0.9155\n",
      "Epoch 6/10\n",
      "60000/60000 [==============================] - 4s 59us/step - loss: 0.2834 - accuracy: 0.9219\n",
      "Epoch 7/10\n",
      "60000/60000 [==============================] - 3s 56us/step - loss: 0.2659 - accuracy: 0.9266\n",
      "Epoch 8/10\n",
      "60000/60000 [==============================] - 4s 61us/step - loss: 0.2518 - accuracy: 0.9303\n",
      "Epoch 9/10\n",
      "60000/60000 [==============================] - 4s 61us/step - loss: 0.2410 - accuracy: 0.9334\n",
      "Epoch 10/10\n",
      "60000/60000 [==============================] - 4s 60us/step - loss: 0.2310 - accuracy: 0.9356\n",
      "60000/60000 [==============================] - 3s 49us/step\n",
      "10000/10000 [==============================] - 0s 42us/step\n",
      "Training Accuracy :  0.9385833144187927\n",
      "Testing Accuracy :  0.9294999837875366\n"
     ]
    }
   ],
   "source": [
    "# Architecture of model 11:\n",
    "# Input layer with 784 nodes\n",
    "# 1st hidden layer with 10 nodes and activation function = sigmoid\n",
    "# 2nd hidden layer with 10 nodes and activation function = relu\n",
    "# Output layer with 10 nodes and activation function = softmax\n",
    "\n",
    "\n",
    "train_accuracy,test_accuracy = nn2(10,10,\"sigmoid\",\"relu\",\"softmax\")\n",
    "print(\"Training Accuracy : \",train_accuracy)\n",
    "print(\"Testing Accuracy : \",test_accuracy)\n",
    "m11_acc=test_accuracy"
   ]
  },
  {
   "cell_type": "code",
   "execution_count": 25,
   "metadata": {},
   "outputs": [
    {
     "name": "stderr",
     "output_type": "stream",
     "text": [
      "C:\\Users\\NITJ\\Anaconda3\\lib\\site-packages\\ipykernel_launcher.py:30: UserWarning: The `nb_epoch` argument in `fit` has been renamed `epochs`.\n"
     ]
    },
    {
     "name": "stdout",
     "output_type": "stream",
     "text": [
      "Epoch 1/10\n",
      "60000/60000 [==============================] - 5s 78us/step - loss: 0.5003 - accuracy: 0.8679\n",
      "Epoch 2/10\n",
      "60000/60000 [==============================] - 4s 74us/step - loss: 0.2119 - accuracy: 0.9385\n",
      "Epoch 3/10\n",
      "60000/60000 [==============================] - 4s 74us/step - loss: 0.1569 - accuracy: 0.9536\n",
      "Epoch 4/10\n",
      "60000/60000 [==============================] - 5s 75us/step - loss: 0.1229 - accuracy: 0.9635\n",
      "Epoch 5/10\n",
      "60000/60000 [==============================] - 5s 76us/step - loss: 0.1012 - accuracy: 0.9700\n",
      "Epoch 6/10\n",
      "60000/60000 [==============================] - 4s 73us/step - loss: 0.0839 - accuracy: 0.9745\n",
      "Epoch 7/10\n",
      "60000/60000 [==============================] - 4s 73us/step - loss: 0.0710 - accuracy: 0.9786\n",
      "Epoch 8/10\n",
      "60000/60000 [==============================] - 5s 79us/step - loss: 0.0608 - accuracy: 0.9812\n",
      "Epoch 9/10\n",
      "60000/60000 [==============================] - 5s 86us/step - loss: 0.0524 - accuracy: 0.9837\n",
      "Epoch 10/10\n",
      "60000/60000 [==============================] - 5s 78us/step - loss: 0.0452 - accuracy: 0.9862\n",
      "60000/60000 [==============================] - 3s 53us/step\n",
      "10000/10000 [==============================] - 0s 47us/step\n",
      "Training Accuracy :  0.9902166724205017\n",
      "Testing Accuracy :  0.9767000079154968\n"
     ]
    }
   ],
   "source": [
    "# Architecture of model 12:\n",
    "# Input layer with 784 nodes\n",
    "# 1st hidden layer with 100 nodes and activation function = sigmoid\n",
    "# 2nd hidden layer with 100 nodes and activation function = relu\n",
    "# Output layer with 10 nodes and activation function = softmax\n",
    "\n",
    "\n",
    "train_accuracy,test_accuracy = nn2(100,100,\"sigmoid\",\"relu\",\"softmax\")\n",
    "print(\"Training Accuracy : \",train_accuracy)\n",
    "print(\"Testing Accuracy : \",test_accuracy)\n",
    "m12_acc=test_accuracy"
   ]
  },
  {
   "cell_type": "markdown",
   "metadata": {},
   "source": [
    "### Comparing accuracies of different models having same set of activations functions but different no. of layers"
   ]
  },
  {
   "cell_type": "code",
   "execution_count": 51,
   "metadata": {},
   "outputs": [
    {
     "data": {
      "image/png": "[encoded data removed]",
      "text/plain": [
       "<Figure size 432x288 with 1 Axes>"
      ]
     },
     "metadata": {
      "needs_background": "light"
     },
     "output_type": "display_data"
    }
   ],
   "source": [
    "# Bar graph\n",
    "plt.bar(['1','2','3'],[m1_acc,m2_acc,m3_acc])\n",
    "\n",
    "plt.title('Different no. of layers but same set of activation function = softplus')\n",
    "plt.xlabel('No. of layers')\n",
    "plt.ylabel('Testing accuracies')\n",
    "\n",
    "plt.show()"
   ]
  },
  {
   "cell_type": "markdown",
   "metadata": {},
   "source": [
    "### Comparing the effect of activation function keep all other hyperparameters same"
   ]
  },
  {
   "cell_type": "code",
   "execution_count": 31,
   "metadata": {},
   "outputs": [
    {
     "data": {
      "image/png": "[encoded data removed]",
      "text/plain": [
       "<Figure size 432x288 with 1 Axes>"
      ]
     },
     "metadata": {
      "needs_background": "light"
     },
     "output_type": "display_data"
    }
   ],
   "source": [
    "plt.bar(['relu','sigmoid','softplus'],[m4_acc,m5_acc,m6_acc])\n",
    "\n",
    "plt.title('Different activation function keep all other hyperparameters same')\n",
    "plt.xlabel('Activation function')\n",
    "plt.ylabel('Testing accuracies')\n",
    "\n",
    "plt.show()"
   ]
  },
  {
   "cell_type": "markdown",
   "metadata": {},
   "source": [
    "### Comparing the effect of no. of nodes in different layers "
   ]
  },
  {
   "cell_type": "code",
   "execution_count": 32,
   "metadata": {},
   "outputs": [
    {
     "data": {
      "image/png": "[encoded data removed]",
      "text/plain": [
       "<Figure size 432x288 with 1 Axes>"
      ]
     },
     "metadata": {
      "needs_background": "light"
     },
     "output_type": "display_data"
    }
   ],
   "source": [
    "plt.bar(['1','10','100'],[m7_acc,m8_acc,m9_acc])\n",
    "\n",
    "plt.title('Activation functions used are tanh, relu, softplus ')\n",
    "plt.xlabel('No. of nodes in 1st and 2nd hidden layers')\n",
    "plt.ylabel('Testing accuracies')\n",
    "\n",
    "plt.show()"
   ]
  },
  {
   "cell_type": "code",
   "execution_count": 33,
   "metadata": {},
   "outputs": [
    {
     "data": {
      "image/png": "[encoded data removed]",
      "text/plain": [
       "<Figure size 432x288 with 1 Axes>"
      ]
     },
     "metadata": {
      "needs_background": "light"
     },
     "output_type": "display_data"
    }
   ],
   "source": [
    "plt.bar(['1','10','100'],[m10_acc,m11_acc,m12_acc])\n",
    "\n",
    "plt.title('Activation functions used are sigmoid, relu, softmax ')\n",
    "plt.xlabel('No. of nodes in 1st and 2nd hidden layers')\n",
    "plt.ylabel('Testing accuracies')\n",
    "\n",
    "plt.show()"
   ]
  },
  {
   "cell_type": "markdown",
   "metadata": {},
   "source": [
    "### Traditional machine learning models"
   ]
  },
  {
   "cell_type": "code",
   "execution_count": 3,
   "metadata": {},
   "outputs": [],
   "source": [
    "t = pd.DataFrame(columns = ['Classification','Accuracy']) \n",
    "ti=1\n",
    "# t is a dataset to store the accuracies of 4 different ML models"
   ]
  },
  {
   "cell_type": "code",
   "execution_count": 4,
   "metadata": {},
   "outputs": [
    {
     "name": "stderr",
     "output_type": "stream",
     "text": [
      "C:\\Users\\NITJ\\Anaconda3\\lib\\site-packages\\sklearn\\linear_model\\logistic.py:432: FutureWarning: Default solver will be changed to 'lbfgs' in 0.22. Specify a solver to silence this warning.\n",
      "  FutureWarning)\n",
      "C:\\Users\\NITJ\\Anaconda3\\lib\\site-packages\\sklearn\\linear_model\\logistic.py:469: FutureWarning: Default multi_class will be changed to 'auto' in 0.22. Specify the multi_class option to silence this warning.\n",
      "  \"this warning.\", FutureWarning)\n"
     ]
    }
   ],
   "source": [
    "# Fitting Logistic Regression to the datset\n",
    "from sklearn.linear_model import LogisticRegression\n",
    "classifier=LogisticRegression()\n",
    "classifier.fit(X_train,y_train)\n",
    "train_accuracy=classifier.score(X_train,y_train)\n",
    "test_accuracy=classifier.score(X_test,y_test)\n",
    "t=t.append(pd.DataFrame({\"Classification\":[\"LogisticRegression\"],'Accuracy':[test_accuracy]} ,index=[ti]))\n",
    "ti=ti+1"
   ]
  },
  {
   "cell_type": "code",
   "execution_count": 8,
   "metadata": {},
   "outputs": [
    {
     "name": "stderr",
     "output_type": "stream",
     "text": [
      "C:\\Users\\NITJ\\Anaconda3\\lib\\site-packages\\sklearn\\svm\\base.py:193: FutureWarning: The default value of gamma will change from 'auto' to 'scale' in version 0.22 to account better for unscaled features. Set gamma explicitly to 'auto' or 'scale' to avoid this warning.\n",
      "  \"avoid this warning.\", FutureWarning)\n"
     ]
    }
   ],
   "source": [
    "# Fitting Support Vector Classification to the datset\n",
    "from sklearn import metrics\n",
    "from sklearn.svm import SVC\n",
    "classifier5 = SVC(kernel = 'rbf')\n",
    "classifier5.fit(X_train, y_train)\n",
    "y_pred = classifier5.predict(X_test)\n",
    "test_accuracy=metrics.accuracy_score(y_true=y_test, y_pred=y_pred)\n",
    "y_pred = classifier5.predict(X_train)\n",
    "train_accuracy=metrics.accuracy_score(y_true=y_train, y_pred=y_pred)\n",
    "t=t.append(pd.DataFrame({\"Classification\":[\"SVC\"],'Accuracy':[test_accuracy]} ,index=[ti]))\n",
    "ti=ti+1"
   ]
  },
  {
   "cell_type": "code",
   "execution_count": 5,
   "metadata": {},
   "outputs": [],
   "source": [
    "# Fitting Naive Bayes Classification to the datset\n",
    "from sklearn.naive_bayes import GaussianNB\n",
    "classifier2 = GaussianNB()\n",
    "classifier2.fit(X_train,y_train)\n",
    "train_accuracy=classifier2.score(X_train,y_train)\n",
    "test_accuracy=classifier2.score(X_test,y_test)\n",
    "t=t.append(pd.DataFrame({\"Classification\":[\"Naive Bayes\"],'Accuracy':[test_accuracy]} ,index=[ti]))\n",
    "ti=ti+1"
   ]
  },
  {
   "cell_type": "code",
   "execution_count": 6,
   "metadata": {},
   "outputs": [],
   "source": [
    "# Fitting Decision Tree Classification to the datset\n",
    "from sklearn.tree import DecisionTreeClassifier\n",
    "classifier3 = DecisionTreeClassifier(criterion = 'entropy', random_state = 0)\n",
    "classifier3.fit(X_train,y_train)\n",
    "train_accuracy=classifier3.score(X_train,y_train)\n",
    "test_accuracy=classifier3.score(X_test,y_test)\n",
    "t=t.append(pd.DataFrame({\"Classification\":[\"Decision Tree\"],'Accuracy':[test_accuracy]} ,index=[ti]))\n",
    "ti=ti+1"
   ]
  },
  {
   "cell_type": "code",
   "execution_count": 9,
   "metadata": {},
   "outputs": [
    {
     "data": {
      "text/html": [
       "<div>\n",
       "<style scoped>\n",
       "    .dataframe tbody tr th:only-of-type {\n",
       "        vertical-align: middle;\n",
       "    }\n",
       "\n",
       "    .dataframe tbody tr th {\n",
       "        vertical-align: top;\n",
       "    }\n",
       "\n",
       "    .dataframe thead th {\n",
       "        text-align: right;\n",
       "    }\n",
       "</style>\n",
       "<table border=\"1\" class=\"dataframe\">\n",
       "  <thead>\n",
       "    <tr style=\"text-align: right;\">\n",
       "      <th></th>\n",
       "      <th>Classification</th>\n",
       "      <th>Accuracy</th>\n",
       "    </tr>\n",
       "  </thead>\n",
       "  <tbody>\n",
       "    <tr>\n",
       "      <td>1</td>\n",
       "      <td>LogisticRegression</td>\n",
       "      <td>0.9201</td>\n",
       "    </tr>\n",
       "    <tr>\n",
       "      <td>2</td>\n",
       "      <td>Naive Bayes</td>\n",
       "      <td>0.5558</td>\n",
       "    </tr>\n",
       "    <tr>\n",
       "      <td>3</td>\n",
       "      <td>Decision Tree</td>\n",
       "      <td>0.8864</td>\n",
       "    </tr>\n",
       "    <tr>\n",
       "      <td>4</td>\n",
       "      <td>SVC</td>\n",
       "      <td>0.9446</td>\n",
       "    </tr>\n",
       "  </tbody>\n",
       "</table>\n",
       "</div>"
      ],
      "text/plain": [
       "       Classification  Accuracy\n",
       "1  LogisticRegression    0.9201\n",
       "2         Naive Bayes    0.5558\n",
       "3       Decision Tree    0.8864\n",
       "4                 SVC    0.9446"
      ]
     },
     "execution_count": 9,
     "metadata": {},
     "output_type": "execute_result"
    }
   ],
   "source": [
    "# Traditional classification Techniques\n",
    "t"
   ]
  }
 ],
 "metadata": {
  "kernelspec": {
   "display_name": "Python 3",
   "language": "python",
   "name": "python3"
  },
  "language_info": {
   "codemirror_mode": {
    "name": "ipython",
    "version": 3
   },
   "file_extension": ".py",
   "mimetype": "text/x-python",
   "name": "python",
   "nbconvert_exporter": "python",
   "pygments_lexer": "ipython3",
   "version": "3.7.4"
  }
 },
 "nbformat": 4,
 "nbformat_minor": 2
}
